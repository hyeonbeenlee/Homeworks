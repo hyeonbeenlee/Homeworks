{
 "cells": [
  {
   "cell_type": "markdown",
   "id": "8a159bb3-a10f-4ade-a907-d78c48a640ff",
   "metadata": {},
   "source": [
    "$C_q$"
   ]
  },
  {
   "cell_type": "markdown",
   "id": "63e17f81-54ea-43af-9ca3-84f27274e058",
   "metadata": {},
   "source": [
    "\\left[\\begin{array}{cccccccccccc}1 & 0 & 0 & 0 & 0 & 0 & 0 & 0 & 0 & 0 & 0 & 0\\\\0 & 1 & 0 & 0 & 0 & 0 & 0 & 0 & 0 & 0 & 0 & 0\\\\0 & 0 & 1 & 0 & 0 & 0 & 0 & 0 & 0 & 0 & 0 & 0\\\\0 & 0 & 0 & 1 & 0 & \\frac{l^{2} \\sin{\\left(\\theta^{2} \\right)}}{2} & 0 & 0 & 0 & 0 & 0 & 0\\\\0 & 0 & 0 & 0 & 1 & - \\frac{l^{2} \\cos{\\left(\\theta^{2} \\right)}}{2} & 0 & 0 & 0 & 0 & 0 & 0\\\\0 & 0 & 0 & 1 & 0 & - \\frac{l^{2} \\sin{\\left(\\theta^{2} \\right)}}{2} & -1 & 0 & - \\frac{l^{3} \\sin{\\left(\\theta^{3} \\right)}}{2} & 0 & 0 & 0\\\\0 & 0 & 0 & 0 & 1 & \\frac{l^{2} \\cos{\\left(\\theta^{2} \\right)}}{2} & 0 & -1 & \\frac{l^{3} \\cos{\\left(\\theta^{3} \\right)}}{2} & 0 & 0 & 0\\\\0 & 0 & 0 & 0 & 0 & 0 & 1 & 0 & - \\frac{l^{3} \\sin{\\left(\\theta^{3} \\right)}}{2} & -1 & 0 & 0\\\\0 & 0 & 0 & 0 & 0 & 0 & 0 & 1 & \\frac{l^{3} \\cos{\\left(\\theta^{3} \\right)}}{2} & 0 & -1 & 0\\\\0 & 0 & 0 & 0 & 0 & 0 & 0 & 0 & 0 & 0 & 1 & 0\\\\0 & 0 & 0 & 0 & 0 & 0 & 0 & 0 & 0 & 0 & 0 & 1\\\\0 & 0 & 0 & 0 & 0 & 0 & 0 & 0 & 0 & 1 & 0 & 0\\end{array}\\right]\n",
    "\n"
   ]
  },
  {
   "cell_type": "markdown",
   "id": "0b7251a7-2455-4d15-aa15-3de8ae33133f",
   "metadata": {},
   "source": [
    "\\left[\\begin{matrix}0\\\\0\\\\0\\\\0\\\\0\\\\0\\\\0\\\\0\\\\0\\\\0\\\\0\\\\- l^{2} \\sin{\\left(t w \\right)}\\end{matrix}\\right]\n"
   ]
  },
  {
   "cell_type": "markdown",
   "id": "f06dad2c-40e7-45af-943b-c97460a34465",
   "metadata": {},
   "source": [
    "\\left[\\begin{matrix}\\dot{R}_1^{1}\\\\\\dot{R}_2^{1}\\\\\\dot{\\theta}^{1}\\\\\\dot{R}_1^{2} + \\frac{\\dot{\\theta}^{2} l^{2} \\sin{\\left(\\dot{\\theta}^{2} \\right)}}{2}\\\\\\dot{R}_2^{2} - \\frac{\\dot{\\theta}^{2} l^{2} \\cos{\\left(\\dot{\\theta}^{2} \\right)}}{2}\\\\\\dot{R}_1^{2} - \\dot{R}_1^{3} - \\frac{\\dot{\\theta}^{2} l^{2} \\sin{\\left(\\dot{\\theta}^{2} \\right)}}{2} - \\frac{\\dot{\\theta}^{3} l^{3} \\sin{\\left(\\dot{\\theta}^{3} \\right)}}{2}\\\\\\dot{R}_2^{2} - \\dot{R}_2^{3} + \\frac{\\dot{\\theta}^{2} l^{2} \\cos{\\left(\\dot{\\theta}^{2} \\right)}}{2} + \\frac{\\dot{\\theta}^{3} l^{3} \\cos{\\left(\\dot{\\theta}^{3} \\right)}}{2}\\\\\\dot{R}_1^{3} - \\dot{R}_1^{4} - \\frac{\\dot{\\theta}^{3} l^{3} \\sin{\\left(\\dot{\\theta}^{3} \\right)}}{2}\\\\\\dot{R}_2^{3} - \\dot{R}_2^{4} + \\frac{\\dot{\\theta}^{3} l^{3} \\cos{\\left(\\dot{\\theta}^{3} \\right)}}{2}\\\\\\dot{R}_2^{4}\\\\\\dot{\\theta}^{4}\\\\\\dot{R}_1^{4}\\end{matrix}\\right]\n",
    "\n"
   ]
  },
  {
   "cell_type": "markdown",
   "id": "9eb5447e-33b9-4a58-920d-1060f0c03335",
   "metadata": {},
   "source": [
    "\\left[\\begin{matrix}0\\\\0\\\\0\\\\\\frac{l^{2} \\sin{\\left(\\theta^{2} \\right)} \\sin{\\left(t w \\right)} \\cos{\\left(\\theta^{3} \\right)}}{2 \\sin{\\left(\\theta^{2} - \\theta^{3} \\right)}}\\\\- \\frac{l^{2} \\sin{\\left(t w \\right)} \\cos{\\left(\\theta^{2} \\right)} \\cos{\\left(\\theta^{3} \\right)}}{2 \\sin{\\left(\\theta^{2} - \\theta^{3} \\right)}}\\\\- \\frac{\\sin{\\left(t w \\right)} \\cos{\\left(\\theta^{3} \\right)}}{\\sin{\\left(\\theta^{2} - \\theta^{3} \\right)}}\\\\\\frac{l^{2} \\cdot \\left(3 \\sin{\\left(\\theta^{2} - \\theta^{3} \\right)} + \\sin{\\left(\\theta^{2} + \\theta^{3} \\right)}\\right) \\sin{\\left(t w \\right)}}{4 \\sin{\\left(\\theta^{2} - \\theta^{3} \\right)}}\\\\- \\frac{l^{2} \\sin{\\left(t w \\right)} \\cos{\\left(\\theta^{2} \\right)} \\cos{\\left(\\theta^{3} \\right)}}{2 \\sin{\\left(\\theta^{2} - \\theta^{3} \\right)}}\\\\\\frac{l^{2} \\sin{\\left(t w \\right)} \\cos{\\left(\\theta^{2} \\right)}}{l^{3} \\sin{\\left(\\theta^{2} - \\theta^{3} \\right)}}\\\\l^{2} \\sin{\\left(t w \\right)}\\\\0\\\\0\\end{matrix}\\right]\n",
    "\n",
    "\n",
    "\n"
   ]
  },
  {
   "cell_type": "markdown",
   "id": "4319d0c8-a8e4-4004-b0b4-4b3f8d1ce40b",
   "metadata": {},
   "source": []
  }
 ],
 "metadata": {
  "kernelspec": {
   "display_name": "Python 3 (ipykernel)",
   "language": "python",
   "name": "python3"
  },
  "language_info": {
   "codemirror_mode": {
    "name": "ipython",
    "version": 3
   },
   "file_extension": ".py",
   "mimetype": "text/x-python",
   "name": "python",
   "nbconvert_exporter": "python",
   "pygments_lexer": "ipython3",
   "version": "3.9.7"
  }
 },
 "nbformat": 4,
 "nbformat_minor": 5
}
